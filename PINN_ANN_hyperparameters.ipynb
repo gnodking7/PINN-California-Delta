{
  "cells": [
    {
      "cell_type": "markdown",
      "metadata": {
        "id": "view-in-github",
        "colab_type": "text"
      },
      "source": [
        "<a href=\"https://colab.research.google.com/github/gnodking7/PINN-California-Delta/blob/main/PINN_ANN_hyperparameters.ipynb\" target=\"_parent\"><img src=\"https://colab.research.google.com/assets/colab-badge.svg\" alt=\"Open In Colab\"/></a>"
      ]
    },
    {
      "cell_type": "markdown",
      "metadata": {
        "id": "PtnBXbftIuTU"
      },
      "source": [
        "The goal is to find a set of optimal hyperparameters for ANN (fully-connected) and a set of optimal hyperparameters for PINN (Physics-informed neural network).\n",
        "\n",
        "Both NN models estimate the salinity at locations Martinez, Port Chicago, Chipps Island stations in California-Delta estuary using the outflow data at these three locations as inputs.\n",
        "\n",
        "The main difference between ANN model and PINN model is illustrated by the following NN structure:\n",
        "\n",
        "\n",
        "\n",
        "1.   ANN\n",
        "\n",
        "![](https://drive.google.com/uc?id=1pPT0dd_v91PRnfj7lw8aLIzWZu0T9Rcu)\n",
        "\n",
        "*   The input of ANN is the outflow vector $\\vec{Q}_n$ corresponding to day $n$.\n",
        "*   ANN is trained by minimizing the mean squared error $$\\sum_n\\|\\hat{S}_n-S_n\\|^2$$ where $\\hat{S}_n$ is the output of ANN and $S_n$ is the true salinity value.\n",
        "\n",
        "2.   PINN\n",
        "\n",
        "![](https://drive.google.com/uc?id=1Z77TmoPzrmUN3SdADFWhaD22KXC9LY5f)\n",
        "\n",
        "*   The input of PINN is the outflow vector $\\vec{Q}_n$ **and** location $x_n$ and time $t_n$.\n",
        "*   PINN is trained by minimizing the mean squared error **and** PDE(1D Advection Dispersion eq) loss $$\\sum_n\\|\\hat{S}_n-S_n\\|^2 +\\sum_n\\bigg\\|A\\frac{\\partial \\hat{S}}{\\partial t}\\Bigr|_{(x_n,t_n)}-\\vec{Q}_{n,1}\\frac{\\partial \\hat{S}}{\\partial x}\\Bigr|_{(x_n,t_n)}-KA\\frac{\\partial^2 \\hat{S}}{\\partial x^2}\\Bigr|_{(x_n,t_n)}\\bigg\\|^2$$ where $\\vec{Q}_{n,1}$ is the first component of the outflow vector $\\vec{Q}_n$."
      ]
    },
    {
      "cell_type": "markdown",
      "metadata": {
        "id": "iRQOEDZiLx9T"
      },
      "source": [
        "# Preliminary Setup"
      ]
    },
    {
      "cell_type": "markdown",
      "metadata": {
        "id": "IoV30wEztavU"
      },
      "source": [
        "## Install Packages\n"
      ]
    },
    {
      "cell_type": "code",
      "execution_count": 2,
      "metadata": {
        "colab": {
          "base_uri": "https://localhost:8080/"
        },
        "id": "d8z7TvEgLhkb",
        "outputId": "652276d6-85ac-49eb-9dc3-4ac63ad3a998"
      },
      "outputs": [
        {
          "output_type": "stream",
          "name": "stdout",
          "text": [
            "\u001b[2K     \u001b[90m━━━━━━━━━━━━━━━━━━━━━━━━━━━━━━━━━━━━━━\u001b[0m \u001b[32m135.7/135.7 KB\u001b[0m \u001b[31m14.4 MB/s\u001b[0m eta \u001b[36m0:00:00\u001b[0m\n",
            "\u001b[2K     \u001b[90m━━━━━━━━━━━━━━━━━━━━━━━━━━━━━━━━━━━━━━━━\u001b[0m \u001b[32m1.6/1.6 MB\u001b[0m \u001b[31m73.1 MB/s\u001b[0m eta \u001b[36m0:00:00\u001b[0m\n",
            "\u001b[?25hLooking in indexes: https://pypi.org/simple, https://us-python.pkg.dev/colab-wheels/public/simple/\n",
            "Collecting deepxde\n",
            "  Downloading DeepXDE-1.8.0-py3-none-any.whl (150 kB)\n",
            "\u001b[2K     \u001b[90m━━━━━━━━━━━━━━━━━━━━━━━━━━━━━━━━━━━━━━\u001b[0m \u001b[32m150.4/150.4 KB\u001b[0m \u001b[31m14.6 MB/s\u001b[0m eta \u001b[36m0:00:00\u001b[0m\n",
            "\u001b[?25hRequirement already satisfied: numpy in /usr/local/lib/python3.8/dist-packages (from deepxde) (1.21.6)\n",
            "Requirement already satisfied: scipy in /usr/local/lib/python3.8/dist-packages (from deepxde) (1.7.3)\n",
            "Collecting scikit-optimize>=0.9.0\n",
            "  Downloading scikit_optimize-0.9.0-py2.py3-none-any.whl (100 kB)\n",
            "\u001b[2K     \u001b[90m━━━━━━━━━━━━━━━━━━━━━━━━━━━━━━━━━━━━━━\u001b[0m \u001b[32m100.3/100.3 KB\u001b[0m \u001b[31m16.0 MB/s\u001b[0m eta \u001b[36m0:00:00\u001b[0m\n",
            "\u001b[?25hRequirement already satisfied: matplotlib in /usr/local/lib/python3.8/dist-packages (from deepxde) (3.2.2)\n",
            "Requirement already satisfied: scikit-learn in /usr/local/lib/python3.8/dist-packages (from deepxde) (1.0.2)\n",
            "Requirement already satisfied: joblib>=0.11 in /usr/local/lib/python3.8/dist-packages (from scikit-optimize>=0.9.0->deepxde) (1.2.0)\n",
            "Collecting pyaml>=16.9\n",
            "  Downloading pyaml-21.10.1-py2.py3-none-any.whl (24 kB)\n",
            "Requirement already satisfied: threadpoolctl>=2.0.0 in /usr/local/lib/python3.8/dist-packages (from scikit-learn->deepxde) (3.1.0)\n",
            "Requirement already satisfied: cycler>=0.10 in /usr/local/lib/python3.8/dist-packages (from matplotlib->deepxde) (0.11.0)\n",
            "Requirement already satisfied: kiwisolver>=1.0.1 in /usr/local/lib/python3.8/dist-packages (from matplotlib->deepxde) (1.4.4)\n",
            "Requirement already satisfied: python-dateutil>=2.1 in /usr/local/lib/python3.8/dist-packages (from matplotlib->deepxde) (2.8.2)\n",
            "Requirement already satisfied: pyparsing!=2.0.4,!=2.1.2,!=2.1.6,>=2.0.1 in /usr/local/lib/python3.8/dist-packages (from matplotlib->deepxde) (3.0.9)\n",
            "Requirement already satisfied: PyYAML in /usr/local/lib/python3.8/dist-packages (from pyaml>=16.9->scikit-optimize>=0.9.0->deepxde) (6.0)\n",
            "Requirement already satisfied: six>=1.5 in /usr/local/lib/python3.8/dist-packages (from python-dateutil>=2.1->matplotlib->deepxde) (1.15.0)\n",
            "Installing collected packages: pyaml, scikit-optimize, deepxde\n",
            "Successfully installed deepxde-1.8.0 pyaml-21.10.1 scikit-optimize-0.9.0\n"
          ]
        }
      ],
      "source": [
        "!pip install -q -U keras-tuner\n",
        "!pip install deepxde"
      ]
    },
    {
      "cell_type": "code",
      "execution_count": 3,
      "metadata": {
        "colab": {
          "base_uri": "https://localhost:8080/"
        },
        "id": "VIZIcM914BO1",
        "outputId": "dd624288-8964-4a51-faf8-2c736b60e13c"
      },
      "outputs": [
        {
          "output_type": "stream",
          "name": "stderr",
          "text": [
            "DeepXDE backend not selected or invalid. Use tensorflow.compat.v1.\n",
            "Using backend: tensorflow.compat.v1\n",
            "\n",
            "WARNING:tensorflow:From /usr/local/lib/python3.8/dist-packages/tensorflow/python/compat/v2_compat.py:107: disable_resource_variables (from tensorflow.python.ops.variable_scope) is deprecated and will be removed in a future version.\n",
            "Instructions for updating:\n",
            "non-resource variables are not supported in the long term\n"
          ]
        },
        {
          "output_type": "stream",
          "name": "stdout",
          "text": [
            "Setting the default backend to \"tensorflow.compat.v1\". You can change it in the ~/.deepxde/config.json file or export the DDE_BACKEND environment variable. Valid options are: tensorflow.compat.v1, tensorflow, pytorch, jax, paddle (all lowercase)\n",
            "Enable just-in-time compilation with XLA.\n",
            "\n"
          ]
        },
        {
          "output_type": "stream",
          "name": "stderr",
          "text": [
            "WARNING:tensorflow:From /usr/local/lib/python3.8/dist-packages/deepxde/nn/initializers.py:118: The name tf.keras.initializers.he_normal is deprecated. Please use tf.compat.v1.keras.initializers.he_normal instead.\n",
            "\n"
          ]
        }
      ],
      "source": [
        "import keras_tuner\n",
        "from tensorflow import keras\n",
        "import tensorflow as tf\n",
        "import deepxde as dde"
      ]
    },
    {
      "cell_type": "code",
      "execution_count": 4,
      "metadata": {
        "id": "f88ORrDgL8MJ"
      },
      "outputs": [],
      "source": [
        "import autograd.numpy as np\n",
        "import matplotlib.pylab as pl\n",
        "import pandas as pd\n",
        "import sys"
      ]
    },
    {
      "cell_type": "markdown",
      "metadata": {
        "id": "QoY_y4iQthep"
      },
      "source": [
        "## Read Data"
      ]
    },
    {
      "cell_type": "markdown",
      "metadata": {
        "id": "K3DBtgnbx1NA"
      },
      "source": [
        "### Read outflow and salinity data"
      ]
    },
    {
      "cell_type": "code",
      "execution_count": 5,
      "metadata": {
        "id": "ySXVLv85L_my"
      },
      "outputs": [],
      "source": [
        "sys.path.append('/content/drive/My Drive/MAC/Python')"
      ]
    },
    {
      "cell_type": "code",
      "execution_count": 6,
      "metadata": {
        "id": "zzTfXUVVL_zX"
      },
      "outputs": [],
      "source": [
        "'''\n",
        "The data is in an Excel file.\n",
        "Daily DSM2 outflow and salinity at locations:\n",
        "  Martinez  Port Chicago  Chipps Island\n",
        "from Apr 1 1990 to Dec 28 2017\n",
        "'''\n",
        "df = pd.read_excel(\"/content/drive/My Drive/MAC/Python/PortChicago202210.xlsx\", header=None)\n",
        "All = np.asarray(df)\n",
        "All = All[7:, :]  # Discard headers\n",
        "\n",
        "for i in range(len(All)):\n",
        "    All[i, 1] = str(All[i, 1])  # Change dates to str\n",
        "\n",
        "import numpy"
      ]
    },
    {
      "cell_type": "code",
      "execution_count": 7,
      "metadata": {
        "id": "0vag9R9uMBka"
      },
      "outputs": [],
      "source": [
        "def data_pre(year, daily, window, window_len):\n",
        "    \"\"\"\n",
        "    Returns preprocessed outflow data for a given 'year' at locations\n",
        "    Martinez, Port Chicago, Chipps Island such that\n",
        "    to each day corresponds outflow data of length 'daily' + 'window'\n",
        "\n",
        "    The preprocessed outflow data vector is created such that\n",
        "    first 'daily' number of outflow (including current day) is included\n",
        "    and prior 'window_len' many outflows are averaged 'window' many times\n",
        "\n",
        "    PARAMETERS\n",
        "    ----------\n",
        "    year :        string or array of strings\n",
        "                  Outflow year(s)\n",
        "    daily :       int\n",
        "                  number of outflow to include 'as-is'\n",
        "    window :      int\n",
        "                  number of average windows in return outflow\n",
        "    window_len :  int\n",
        "                  length of each window\n",
        "    RETURNS\n",
        "    -------\n",
        "    M_OUT :       ndarray, shape (year length, daily+window)\n",
        "                  Preprocessed outflow at Martinez\n",
        "    P_OUT :       ndarray, shape (year length, daily+window)\n",
        "                  Preprocessed outflow at Port Chicago\n",
        "    C_OUT :       ndarray, shape (year length, daily+window)\n",
        "                  Preprocessed outflow at Chipps Island\n",
        "    \"\"\"\n",
        "\n",
        "    if type(year) == str:\n",
        "        indices = numpy.flatnonzero(numpy.core.defchararray.find(list(All[:, 1]), year)!=-1)\n",
        "    else:\n",
        "        indices = []\n",
        "        for yr in year:\n",
        "            indices.extend(numpy.flatnonzero(numpy.core.defchararray.find(list(All[:, 1]), yr)!=-1))\n",
        "    total = daily + window * window_len\n",
        "    OUT_d = All[indices[0] - (total - 1):indices[-1] + 1, 2:5] # Range of outflow to extract outflow vector from\n",
        "    OUT_d = np.flip(OUT_d, 1) # Locations are in reverse order, so flip data\n",
        "    OUT_d = (OUT_d - np.min(OUT_d)) / (np.max(OUT_d) - np.min(OUT_d)) # Normalize\n",
        "\n",
        "    ## Preprocessed outflow data for Martinez\n",
        "    M_OUT = []\n",
        "    cur = total - 1\n",
        "    for i in range(len(indices)):\n",
        "        vec = OUT_d[cur-(daily-1):cur+1, 0]\n",
        "        vec = np.flip(vec)\n",
        "        ind = cur - (daily - 1)\n",
        "        for j in range(window):\n",
        "            avg = np.mean(OUT_d[ind-window_len:ind, 0])\n",
        "            vec = np.concatenate((vec, np.array([avg])))\n",
        "            ind -= window_len\n",
        "        M_OUT.append(vec)\n",
        "        cur += 1\n",
        "    M_OUT = np.array(M_OUT)\n",
        "\n",
        "    ## Preprocessed outflow data for Port Chicago\n",
        "    P_OUT = []\n",
        "    cur = total - 1\n",
        "    for i in range(len(indices)):\n",
        "        vec = OUT_d[cur-(daily-1):cur+1, 1]\n",
        "        vec = np.flip(vec)\n",
        "        ind = cur - (daily - 1)\n",
        "        for j in range(window):\n",
        "            avg = np.mean(OUT_d[ind-window_len:ind, 1])\n",
        "            vec = np.concatenate((vec, np.array([avg])))\n",
        "            ind -= window_len\n",
        "        P_OUT.append(vec)\n",
        "        cur += 1\n",
        "    P_OUT = np.array(P_OUT)\n",
        "\n",
        "    ## Preprocessed outflow data for Chipps Island\n",
        "    C_OUT = []\n",
        "    cur = total - 1\n",
        "    for i in range(len(indices)):\n",
        "        vec = OUT_d[cur-(daily-1):cur+1, 2]\n",
        "        vec = np.flip(vec)\n",
        "        ind = cur - (daily - 1)\n",
        "        for j in range(window):\n",
        "            avg = np.mean(OUT_d[ind-window_len:ind, 2])\n",
        "            vec = np.concatenate((vec, np.array([avg])))\n",
        "            ind -= window_len\n",
        "        C_OUT.append(vec)\n",
        "        cur += 1\n",
        "    C_OUT = np.array(C_OUT)\n",
        "\n",
        "    return M_OUT, P_OUT, C_OUT"
      ]
    },
    {
      "cell_type": "markdown",
      "metadata": {
        "id": "QItuIrgNyDca"
      },
      "source": [
        "### Preprocess to create outflow vectors"
      ]
    },
    {
      "cell_type": "code",
      "execution_count": 8,
      "metadata": {
        "id": "_vYV8yEHCGLp"
      },
      "outputs": [],
      "source": [
        "years = ['1991','1992','1993','1994','1995','1996','1997','1998','1999','2000','2001','2002','2003','2004','2005','2006','2007','2008','2009','2010','2011','2012','2013','2014','2015','2016','2017']\n",
        "\n",
        "indices = []\n",
        "for yr in years:\n",
        "    indices.extend(numpy.flatnonzero(numpy.core.defchararray.find(list(All[:, 1]), yr)!=-1))\n",
        "indices = np.array(indices)\n",
        "\n",
        "EC_d = All[indices, 5:] # Salinity at three locations\n",
        "EC_min = np.min(EC_d)\n",
        "EC_max = np.max(EC_d)\n",
        "\n",
        "'''\n",
        "Create outflow data vectors at each location\n",
        "To each day corresponds a 18-dim vector created from antecedent 118 outflow data:\n",
        "  current day + previous 7 days + previous 110 days averaged into 10-dim values with window length 11\n",
        "'''\n",
        "M_OUT, P_OUT, C_OUT = data_pre(years, 8, 10, 11)"
      ]
    },
    {
      "cell_type": "markdown",
      "metadata": {
        "id": "3WAqnUGqyLDS"
      },
      "source": [
        "### Split to train and validation"
      ]
    },
    {
      "cell_type": "code",
      "execution_count": 9,
      "metadata": {
        "id": "BqJCXwn_Chf-"
      },
      "outputs": [],
      "source": [
        "tr_years = ['1997','1998','1999','2000','2001','2002','2003','2004','2005','2006','2007','2008','2009','2010','2011','2012','2013','2014','2015','2016','2017']\n",
        "# tr_years = ['1991','1992','1993','1994','1995','1996','1997','1998','1999','2000','2001','2002','2003','2004','2005','2006','2007','2008','2009','2010','2011']\n",
        "tst_years = ['1991','1992','1993','1994','1995','1996']\n",
        "# tst_years = ['2012','2013','2014','2015','2016','2017']\n",
        "\n",
        "tr_indices = []\n",
        "for yr in tr_years:\n",
        "    tr_indices.extend(numpy.flatnonzero(numpy.core.defchararray.find(list(All[:, 1]), yr)!=-1))\n",
        "tr_indices = np.array(tr_indices)\n",
        "\n",
        "tst_indices = []\n",
        "for yr in tst_years:\n",
        "    tst_indices.extend(numpy.flatnonzero(numpy.core.defchararray.find(list(All[:, 1]), yr)!=-1))\n",
        "tst_indices = np.array(tst_indices)"
      ]
    },
    {
      "cell_type": "code",
      "execution_count": 10,
      "metadata": {
        "id": "W1NrLBuiCwlW"
      },
      "outputs": [],
      "source": [
        "## Training data\n",
        "tr_EC_d = All[tr_indices, 5:]\n",
        "tr_EC_d = np.flip(tr_EC_d, 1)\n",
        "tr_EC_d = (tr_EC_d - EC_min) / (EC_max - EC_min) # Normalize\n",
        "\n",
        "Q = []  # Inputs for ANN\n",
        "X = []  # Inputs for PINN\n",
        "Svals = []  # Outputs (same for both ANN and PINN)\n",
        "\n",
        "portion = 1 / (len(tr_indices) + len(tst_indices)) # to split the time domain [0, 1] uniformly\n",
        "\n",
        "for i in range(len(tr_EC_d)):\n",
        "    cur_ind = tr_indices[i]\n",
        "    for j in range(3):\n",
        "        # Martinez\n",
        "        if j == 0:\n",
        "            Q.append(M_OUT[cur_ind-275, :])\n",
        "            X.append(np.concatenate(([0, (cur_ind - 274) * portion], M_OUT[cur_ind-275, :])))\n",
        "        # Port Chicago\n",
        "        elif j == 1:\n",
        "            Q.append(P_OUT[cur_ind-275, :])\n",
        "            X.append(np.concatenate(([0.442, (cur_ind - 274) * portion], P_OUT[cur_ind-275, :])))\n",
        "        # Chipps Island\n",
        "        elif j == 2:\n",
        "            Q.append(C_OUT[cur_ind-275, :])\n",
        "            X.append(np.concatenate(([1, (cur_ind - 274) * portion], C_OUT[cur_ind-275, :])))\n",
        "        Svals.append(tr_EC_d[i, j])\n",
        "\n",
        "Q = np.array(Q).astype('float32')\n",
        "X = np.array(X).astype('float32')\n",
        "Svals = np.array(Svals).astype('float32').flatten()[:, None]\n",
        "\n",
        "## Testing data\n",
        "tst_EC_d = All[tst_indices, 5:]\n",
        "tst_EC_d = np.flip(tst_EC_d, 1)\n",
        "tst_EC_d = (tst_EC_d - EC_min) / (EC_max - EC_min) # Normalize\n",
        "\n",
        "Q_tst = []  # Validation inputs for ANN\n",
        "X_tst = []  # Validation inputs for PINN\n",
        "Svals_tst = []  # Validation outputs\n",
        "\n",
        "for i in range(len(tst_EC_d)):\n",
        "    cur_ind = tst_indices[i]\n",
        "    for j in range(3):\n",
        "        # Martinez\n",
        "        if j == 0:\n",
        "            Q_tst.append(M_OUT[cur_ind-275, :])\n",
        "            X_tst.append(np.concatenate(([0, (cur_ind - 274) * portion], M_OUT[cur_ind-275, :])))\n",
        "        # Port Chicago\n",
        "        elif j == 1:\n",
        "            Q_tst.append(P_OUT[cur_ind-275, :])\n",
        "            X_tst.append(np.concatenate(([0.442, (cur_ind - 274) * portion], P_OUT[cur_ind-275, :])))\n",
        "        # Chipps Island\n",
        "        elif j == 2:\n",
        "            Q_tst.append(C_OUT[cur_ind-275, :])\n",
        "            X_tst.append(np.concatenate(([1, (cur_ind - 274) * portion], C_OUT[cur_ind-275, :])))\n",
        "        Svals_tst.append(tst_EC_d[i, j])\n",
        "\n",
        "Q_tst = np.array(Q_tst).astype('float32')\n",
        "X_tst = np.array(X_tst).astype('float32')\n",
        "Svals_tst = np.array(Svals_tst).astype('float32').flatten()[:, None]"
      ]
    },
    {
      "cell_type": "markdown",
      "metadata": {
        "id": "gly8eFEvDICL"
      },
      "source": [
        "# Keras Tuner"
      ]
    },
    {
      "cell_type": "markdown",
      "metadata": {
        "id": "D66JUTDznXYc"
      },
      "source": [
        "## ANN model"
      ]
    },
    {
      "cell_type": "markdown",
      "metadata": {
        "id": "Xt2Bzifd1Ixf"
      },
      "source": [
        "### Set hyperparameters search space"
      ]
    },
    {
      "cell_type": "code",
      "execution_count": 10,
      "metadata": {
        "colab": {
          "base_uri": "https://localhost:8080/"
        },
        "id": "LnOvtBgqDJs1",
        "outputId": "9a8ed72a-ab4a-4d51-e1c5-18df701b467b"
      },
      "outputs": [
        {
          "output_type": "execute_result",
          "data": {
            "text/plain": [
              "<keras.engine.sequential.Sequential at 0x7fa5f25df7f0>"
            ]
          },
          "metadata": {},
          "execution_count": 10
        }
      ],
      "source": [
        "'''\n",
        "Neural Network structure:\n",
        "    1. Number of layers is preset to be\n",
        "\n",
        "                              Act 1                Act 2                Act 3\n",
        "        Input Layer ----> Hidden Layer 1 ----> Hidden Layer 2 ----> Output Layer\n",
        "    \n",
        "    2. Possible number of neurons for Hidden Layer 1 is [4, 8, 12, ..., 32]\n",
        "    3. Possible number of neurons for Hidden Layer 2 is [2, 4, 6, ..., 16]\n",
        "    4. Possible activation function for all three activation functions is [\"relu\", \"tanh\", \"elu\", \"sigmoid\"]\n",
        "'''\n",
        "\n",
        "def build_model(hp):\n",
        "    # Hyperparameters\n",
        "    act_func_1=hp.Choice(\"activation_1\", [\"relu\",\"tanh\",\"elu\",\"sigmoid\"])\n",
        "    act_func_2=hp.Choice(\"activation_2\", [\"relu\",\"tanh\",\"elu\",\"sigmoid\"])\n",
        "    act_func_3=hp.Choice(\"activation_3\", [\"relu\",\"tanh\",\"elu\",\"sigmoid\"])\n",
        "    hidden_units_1 = hp.Int(\"nhidden1\", min_value=4, max_value=32, step=4)\n",
        "    hidden_units_2 = hp.Int(\"nhidden2\", min_value=2, max_value=16, step=2)\n",
        "        \n",
        "    model = keras.Sequential(\n",
        "        [\n",
        "            keras.layers.Input(shape=(18,)),\n",
        "            keras.layers.Dense(hidden_units_1, activation=act_func_1),\n",
        "            keras.layers.Dense(hidden_units_2, activation=act_func_2),\n",
        "            keras.layers.Dense(1, activation=act_func_3)\n",
        "        ])\n",
        "    model.compile(optimizer=keras.optimizers.Adam(\n",
        "        learning_rate=0.001), loss=\"mse\")\n",
        "    return model\n",
        "\n",
        "build_model(keras_tuner.HyperParameters())"
      ]
    },
    {
      "cell_type": "code",
      "execution_count": 11,
      "metadata": {
        "colab": {
          "base_uri": "https://localhost:8080/"
        },
        "id": "4mpcvlEPRnTA",
        "outputId": "69403c38-ebdf-4429-84f7-2b035bd7f171"
      },
      "outputs": [
        {
          "output_type": "stream",
          "name": "stdout",
          "text": [
            "Search space summary\n",
            "Default search space size: 5\n",
            "activation_1 (Choice)\n",
            "{'default': 'relu', 'conditions': [], 'values': ['relu', 'tanh', 'elu', 'sigmoid'], 'ordered': False}\n",
            "activation_2 (Choice)\n",
            "{'default': 'relu', 'conditions': [], 'values': ['relu', 'tanh', 'elu', 'sigmoid'], 'ordered': False}\n",
            "activation_3 (Choice)\n",
            "{'default': 'relu', 'conditions': [], 'values': ['relu', 'tanh', 'elu', 'sigmoid'], 'ordered': False}\n",
            "nhidden1 (Int)\n",
            "{'default': None, 'conditions': [], 'min_value': 4, 'max_value': 32, 'step': 4, 'sampling': None}\n",
            "nhidden2 (Int)\n",
            "{'default': None, 'conditions': [], 'min_value': 2, 'max_value': 16, 'step': 2, 'sampling': None}\n"
          ]
        }
      ],
      "source": [
        "tuner = keras_tuner.RandomSearch(\n",
        "    hypermodel=build_model,\n",
        "    objective=\"val_loss\", # Find a set of hyperparameters that minimizes the validation loss\n",
        "    max_trials=50,  # Randomly search for 50 sets\n",
        "    executions_per_trial=2, # For each set, run twice\n",
        "    # overwrite=True,\n",
        "    # directory='tuner',\n",
        "    # project_name=\"ann_dsm2\",\n",
        ")\n",
        "\n",
        "tuner.search_space_summary()"
      ]
    },
    {
      "cell_type": "markdown",
      "metadata": {
        "id": "S-JnTsbT5BRq"
      },
      "source": [
        "### Search"
      ]
    },
    {
      "cell_type": "code",
      "execution_count": 12,
      "metadata": {
        "colab": {
          "base_uri": "https://localhost:8080/"
        },
        "id": "T809Qzm3nicK",
        "outputId": "4d897332-8d96-4b71-fe77-d691e43361b3"
      },
      "outputs": [
        {
          "output_type": "stream",
          "name": "stderr",
          "text": [
            "/usr/local/lib/python3.8/dist-packages/keras/engine/training_v1.py:2045: UserWarning: `Model.state_updates` will be removed in a future version. This property should not be used in TensorFlow 2.0, as `updates` are applied automatically.\n",
            "  updates = self.state_updates\n"
          ]
        }
      ],
      "source": [
        "tuner.search(Q, Svals,\n",
        "                epochs=3000,\n",
        "                batch_size=len(Q),  # entire training for 1 epoch\n",
        "                validation_data=(Q_tst, Svals_tst),\n",
        "                callbacks=[\n",
        "                    keras.callbacks.EarlyStopping(\n",
        "                        monitor=\"val_loss\", patience=50, mode=\"min\", restore_best_weights=True),\n",
        "                    #tensorboard_cb\n",
        "                ],\n",
        "                 verbose=0\n",
        "                )"
      ]
    },
    {
      "cell_type": "code",
      "execution_count": 13,
      "metadata": {
        "colab": {
          "base_uri": "https://localhost:8080/"
        },
        "id": "wE1-jInnoq_j",
        "outputId": "5c407fac-9092-4e80-8546-173110ee8421"
      },
      "outputs": [
        {
          "output_type": "stream",
          "name": "stdout",
          "text": [
            "Results summary\n",
            "Results in ./untitled_project\n",
            "Showing 10 best trials\n",
            "<keras_tuner.engine.objective.Objective object at 0x7fa5f259db50>\n",
            "Trial summary\n",
            "Hyperparameters:\n",
            "activation_1: relu\n",
            "activation_2: tanh\n",
            "activation_3: sigmoid\n",
            "nhidden1: 20\n",
            "nhidden2: 14\n",
            "Score: 0.006794638931751251\n",
            "Trial summary\n",
            "Hyperparameters:\n",
            "activation_1: relu\n",
            "activation_2: relu\n",
            "activation_3: sigmoid\n",
            "nhidden1: 28\n",
            "nhidden2: 6\n",
            "Score: 0.006847157143056393\n",
            "Trial summary\n",
            "Hyperparameters:\n",
            "activation_1: relu\n",
            "activation_2: elu\n",
            "activation_3: elu\n",
            "nhidden1: 32\n",
            "nhidden2: 14\n",
            "Score: 0.006949597736820579\n",
            "Trial summary\n",
            "Hyperparameters:\n",
            "activation_1: relu\n",
            "activation_2: tanh\n",
            "activation_3: elu\n",
            "nhidden1: 32\n",
            "nhidden2: 14\n",
            "Score: 0.0070109497755765915\n",
            "Trial summary\n",
            "Hyperparameters:\n",
            "activation_1: relu\n",
            "activation_2: relu\n",
            "activation_3: relu\n",
            "nhidden1: 12\n",
            "nhidden2: 16\n",
            "Score: 0.007043331628665328\n",
            "Trial summary\n",
            "Hyperparameters:\n",
            "activation_1: relu\n",
            "activation_2: elu\n",
            "activation_3: relu\n",
            "nhidden1: 28\n",
            "nhidden2: 14\n",
            "Score: 0.007180385757237673\n",
            "Trial summary\n",
            "Hyperparameters:\n",
            "activation_1: relu\n",
            "activation_2: elu\n",
            "activation_3: relu\n",
            "nhidden1: 20\n",
            "nhidden2: 16\n",
            "Score: 0.007185514317825437\n",
            "Trial summary\n",
            "Hyperparameters:\n",
            "activation_1: elu\n",
            "activation_2: elu\n",
            "activation_3: sigmoid\n",
            "nhidden1: 24\n",
            "nhidden2: 14\n",
            "Score: 0.00722854514606297\n",
            "Trial summary\n",
            "Hyperparameters:\n",
            "activation_1: tanh\n",
            "activation_2: elu\n",
            "activation_3: sigmoid\n",
            "nhidden1: 24\n",
            "nhidden2: 10\n",
            "Score: 0.007228802889585495\n",
            "Trial summary\n",
            "Hyperparameters:\n",
            "activation_1: tanh\n",
            "activation_2: tanh\n",
            "activation_3: sigmoid\n",
            "nhidden1: 20\n",
            "nhidden2: 14\n",
            "Score: 0.007279350655153394\n"
          ]
        }
      ],
      "source": [
        "## 10 best sets of hyperparameters\n",
        "\n",
        "tuner.results_summary()"
      ]
    },
    {
      "cell_type": "markdown",
      "metadata": {
        "id": "AeSgT4JXndE-"
      },
      "source": [
        "## PINN model"
      ]
    },
    {
      "cell_type": "markdown",
      "metadata": {
        "id": "ntw8yYS5Hk8R"
      },
      "source": [
        "### Set hyperparameters search space"
      ]
    },
    {
      "cell_type": "code",
      "execution_count": 12,
      "metadata": {
        "id": "Sr4E1LmqLdId"
      },
      "outputs": [],
      "source": [
        "\"\"\" \n",
        "Custom loss function for PINN\n",
        "    Mean squared error + PDE (1D Advection Dispersion) loss\n",
        "\"\"\"\n",
        "def PINN_loss(inp):\n",
        "    def loss(y_true, y_pred):\n",
        "        A = 0.002\n",
        "        K = 133.959\n",
        "        S = y_pred\n",
        "        Q = inp[2:3]\n",
        "        dS_x = dde.grad.jacobian(S, inp, i=0, j=0)\n",
        "        dS_t = dde.grad.jacobian(S, inp, i=0, j=1)\n",
        "        dS_xx = dde.grad.hessian(S, inp, i=0, j=0)\n",
        "        mse = tf.keras.losses.MeanSquaredError()\n",
        "        return mse(y_true, S) + ((A * dS_t - Q * dS_x - K * A * dS_xx) ** 2)\n",
        "    return loss"
      ]
    },
    {
      "cell_type": "code",
      "execution_count": 13,
      "metadata": {
        "colab": {
          "base_uri": "https://localhost:8080/"
        },
        "id": "Z3TlK1p3n3BA",
        "outputId": "22004609-8f1c-4792-dd26-265e52a6056b"
      },
      "outputs": [
        {
          "output_type": "execute_result",
          "data": {
            "text/plain": [
              "<keras.engine.functional.Functional at 0x7f668c003040>"
            ]
          },
          "metadata": {},
          "execution_count": 13
        }
      ],
      "source": [
        "'''\n",
        "Neural Network structure:\n",
        "    1. Number of layers is preset to be\n",
        "\n",
        "                              Act 1                Act 2                Act 3\n",
        "        Input Layer ----> Hidden Layer 1 ----> Hidden Layer 2 ----> Output Layer\n",
        "    \n",
        "    2. Possible number of neurons for Hidden Layer 1 is [4, 8, 12, ..., 32]\n",
        "    3. Possible number of neurons for Hidden Layer 2 is [2, 4, 6, ..., 16]\n",
        "    4. Possible activation function for all three activation functions is [\"relu\", \"tanh\", \"elu\", \"sigmoid\"]\n",
        "'''\n",
        "\n",
        "def build_model(hp):\n",
        "    # Hyperparameters\n",
        "    act_func_1=hp.Choice(\"activation_1\", [\"relu\",\"tanh\",\"elu\",\"sigmoid\"])\n",
        "    act_func_2=hp.Choice(\"activation_2\", [\"relu\",\"tanh\",\"elu\",\"sigmoid\"])\n",
        "    act_func_3=hp.Choice(\"activation_3\", [\"relu\",\"tanh\",\"elu\",\"sigmoid\"])\n",
        "    hidden_units_1 = hp.Int(\"nhidden1\", min_value=4, max_value=32, step=4)\n",
        "    hidden_units_2 = hp.Int(\"nhidden2\", min_value=2, max_value=16, step=2)\n",
        "\n",
        "    Inp = keras.layers.Input(shape=(20,))\n",
        "    L1 = keras.layers.Dense(hidden_units_1, activation=act_func_1)(Inp)\n",
        "    L2 = keras.layers.Dense(hidden_units_2, activation=act_func_2)(L1)\n",
        "    Out = keras.layers.Dense(1, activation=act_func_3)(L2)\n",
        "    PINN_model = keras.Model(Inp, Out)\n",
        "    PINN_model.compile(optimizer=keras.optimizers.Adam(learning_rate=0.001), loss=PINN_loss(Inp))\n",
        "    return PINN_model\n",
        "\n",
        "build_model(keras_tuner.HyperParameters())"
      ]
    },
    {
      "cell_type": "code",
      "execution_count": 14,
      "metadata": {
        "colab": {
          "base_uri": "https://localhost:8080/"
        },
        "id": "U-Raj-Gvn0aj",
        "outputId": "3286e1fc-2afd-450f-de87-f27711c6d16f"
      },
      "outputs": [
        {
          "output_type": "stream",
          "name": "stdout",
          "text": [
            "Search space summary\n",
            "Default search space size: 5\n",
            "activation_1 (Choice)\n",
            "{'default': 'relu', 'conditions': [], 'values': ['relu', 'tanh', 'elu', 'sigmoid'], 'ordered': False}\n",
            "activation_2 (Choice)\n",
            "{'default': 'relu', 'conditions': [], 'values': ['relu', 'tanh', 'elu', 'sigmoid'], 'ordered': False}\n",
            "activation_3 (Choice)\n",
            "{'default': 'relu', 'conditions': [], 'values': ['relu', 'tanh', 'elu', 'sigmoid'], 'ordered': False}\n",
            "nhidden1 (Int)\n",
            "{'default': None, 'conditions': [], 'min_value': 4, 'max_value': 32, 'step': 4, 'sampling': None}\n",
            "nhidden2 (Int)\n",
            "{'default': None, 'conditions': [], 'min_value': 2, 'max_value': 16, 'step': 2, 'sampling': None}\n"
          ]
        }
      ],
      "source": [
        "tuner = keras_tuner.RandomSearch(\n",
        "    hypermodel=build_model,\n",
        "    objective=\"val_loss\", # Find a set of hyperparameters that minimizes the validation loss\n",
        "    max_trials=50,  # Randomly search for 50 sets\n",
        "    executions_per_trial=2, # For each set, run twice\n",
        "    # overwrite=True,\n",
        "    # directory='tuner',\n",
        "    # project_name=\"ann_dsm2\",\n",
        ")\n",
        "\n",
        "tuner.search_space_summary()"
      ]
    },
    {
      "cell_type": "markdown",
      "metadata": {
        "id": "SBGgJjZfIj6L"
      },
      "source": [
        "### Search"
      ]
    },
    {
      "cell_type": "code",
      "execution_count": 15,
      "metadata": {
        "colab": {
          "base_uri": "https://localhost:8080/"
        },
        "id": "ctQhdghBq_mg",
        "outputId": "1e4f4b5c-8f92-45fb-9754-0ae545fb047b"
      },
      "outputs": [
        {
          "output_type": "stream",
          "name": "stderr",
          "text": [
            "/usr/local/lib/python3.8/dist-packages/keras/engine/training_v1.py:2045: UserWarning: `Model.state_updates` will be removed in a future version. This property should not be used in TensorFlow 2.0, as `updates` are applied automatically.\n",
            "  updates = self.state_updates\n"
          ]
        }
      ],
      "source": [
        "tuner.search(X, Svals,\n",
        "                epochs=3000,\n",
        "                batch_size=len(X),  # entire training for 1 epoch\n",
        "                validation_data=(X_tst, Svals_tst),\n",
        "                callbacks=[\n",
        "                    keras.callbacks.EarlyStopping(\n",
        "                        monitor=\"val_loss\", patience=50, mode=\"min\", restore_best_weights=True),\n",
        "                    #tensorboard_cb\n",
        "                ],\n",
        "                verbose=0\n",
        "                )"
      ]
    },
    {
      "cell_type": "code",
      "execution_count": 16,
      "metadata": {
        "colab": {
          "base_uri": "https://localhost:8080/"
        },
        "id": "ieG7gxb1fOHS",
        "outputId": "9b6862b1-c4ea-49e7-e4ba-44a953fd9ccd"
      },
      "outputs": [
        {
          "output_type": "stream",
          "name": "stdout",
          "text": [
            "Results summary\n",
            "Results in ./untitled_project\n",
            "Showing 10 best trials\n",
            "<keras_tuner.engine.objective.Objective object at 0x7f668b2fde80>\n",
            "Trial summary\n",
            "Hyperparameters:\n",
            "activation_1: elu\n",
            "activation_2: relu\n",
            "activation_3: elu\n",
            "nhidden1: 24\n",
            "nhidden2: 10\n",
            "Score: 0.0066867065615952015\n",
            "Trial summary\n",
            "Hyperparameters:\n",
            "activation_1: elu\n",
            "activation_2: relu\n",
            "activation_3: sigmoid\n",
            "nhidden1: 12\n",
            "nhidden2: 8\n",
            "Score: 0.006915865233168006\n",
            "Trial summary\n",
            "Hyperparameters:\n",
            "activation_1: tanh\n",
            "activation_2: tanh\n",
            "activation_3: sigmoid\n",
            "nhidden1: 16\n",
            "nhidden2: 14\n",
            "Score: 0.007109331199899316\n",
            "Trial summary\n",
            "Hyperparameters:\n",
            "activation_1: tanh\n",
            "activation_2: tanh\n",
            "activation_3: elu\n",
            "nhidden1: 16\n",
            "nhidden2: 16\n",
            "Score: 0.007337345276027918\n",
            "Trial summary\n",
            "Hyperparameters:\n",
            "activation_1: tanh\n",
            "activation_2: elu\n",
            "activation_3: tanh\n",
            "nhidden1: 12\n",
            "nhidden2: 16\n",
            "Score: 0.007411929313093424\n",
            "Trial summary\n",
            "Hyperparameters:\n",
            "activation_1: tanh\n",
            "activation_2: relu\n",
            "activation_3: elu\n",
            "nhidden1: 4\n",
            "nhidden2: 8\n",
            "Score: 0.007426365511491895\n",
            "Trial summary\n",
            "Hyperparameters:\n",
            "activation_1: relu\n",
            "activation_2: elu\n",
            "activation_3: tanh\n",
            "nhidden1: 16\n",
            "nhidden2: 8\n",
            "Score: 0.0074908731039613485\n",
            "Trial summary\n",
            "Hyperparameters:\n",
            "activation_1: relu\n",
            "activation_2: sigmoid\n",
            "activation_3: elu\n",
            "nhidden1: 12\n",
            "nhidden2: 14\n",
            "Score: 0.0075519338715821505\n",
            "Trial summary\n",
            "Hyperparameters:\n",
            "activation_1: elu\n",
            "activation_2: tanh\n",
            "activation_3: sigmoid\n",
            "nhidden1: 28\n",
            "nhidden2: 12\n",
            "Score: 0.007558491080999374\n",
            "Trial summary\n",
            "Hyperparameters:\n",
            "activation_1: relu\n",
            "activation_2: sigmoid\n",
            "activation_3: sigmoid\n",
            "nhidden1: 20\n",
            "nhidden2: 12\n",
            "Score: 0.007560431258752942\n"
          ]
        }
      ],
      "source": [
        "## 10 best sets of hyperparameters\n",
        "\n",
        "tuner.results_summary()"
      ]
    }
  ],
  "metadata": {
    "accelerator": "GPU",
    "colab": {
      "toc_visible": true,
      "provenance": [],
      "mount_file_id": "1sig1qLUJwNPLi7L7UjFGY5PkMwNtGLXj",
      "authorship_tag": "ABX9TyOxouhatkVQaKVEARhVjTBu",
      "include_colab_link": true
    },
    "gpuClass": "standard",
    "kernelspec": {
      "display_name": "Python 3",
      "name": "python3"
    },
    "language_info": {
      "name": "python"
    }
  },
  "nbformat": 4,
  "nbformat_minor": 0
}